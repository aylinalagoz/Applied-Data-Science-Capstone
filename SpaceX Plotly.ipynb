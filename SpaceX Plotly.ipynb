{
 "cells": [
  {
   "cell_type": "code",
   "execution_count": 37,
   "metadata": {},
   "outputs": [
    {
     "name": "stdout",
     "output_type": "stream",
     "text": [
      "Requirement already satisfied: pip in ./opt/anaconda3/lib/python3.7/site-packages (21.3.1)\r\n"
     ]
    }
   ],
   "source": [
    "!pip install --upgrade pip"
   ]
  },
  {
   "cell_type": "code",
   "execution_count": 38,
   "metadata": {},
   "outputs": [
    {
     "name": "stdout",
     "output_type": "stream",
     "text": [
      "Requirement already satisfied: dash in ./opt/anaconda3/lib/python3.7/site-packages (2.0.0)\n",
      "Requirement already satisfied: dash-html-components==2.0.0 in ./opt/anaconda3/lib/python3.7/site-packages (from dash) (2.0.0)\n",
      "Requirement already satisfied: flask-compress in ./opt/anaconda3/lib/python3.7/site-packages (from dash) (1.10.1)\n",
      "Requirement already satisfied: Flask>=1.0.4 in ./opt/anaconda3/lib/python3.7/site-packages (from dash) (1.1.1)\n",
      "Requirement already satisfied: plotly>=5.0.0 in ./opt/anaconda3/lib/python3.7/site-packages (from dash) (5.4.0)\n",
      "Requirement already satisfied: dash-core-components==2.0.0 in ./opt/anaconda3/lib/python3.7/site-packages (from dash) (2.0.0)\n",
      "Requirement already satisfied: dash-table==5.0.0 in ./opt/anaconda3/lib/python3.7/site-packages (from dash) (5.0.0)\n",
      "Requirement already satisfied: click>=5.1 in ./opt/anaconda3/lib/python3.7/site-packages (from Flask>=1.0.4->dash) (7.0)\n",
      "Requirement already satisfied: itsdangerous>=0.24 in ./opt/anaconda3/lib/python3.7/site-packages (from Flask>=1.0.4->dash) (1.1.0)\n",
      "Requirement already satisfied: Werkzeug>=0.15 in ./opt/anaconda3/lib/python3.7/site-packages (from Flask>=1.0.4->dash) (0.16.0)\n",
      "Requirement already satisfied: Jinja2>=2.10.1 in ./opt/anaconda3/lib/python3.7/site-packages (from Flask>=1.0.4->dash) (2.10.3)\n",
      "Requirement already satisfied: tenacity>=6.2.0 in ./opt/anaconda3/lib/python3.7/site-packages (from plotly>=5.0.0->dash) (8.0.1)\n",
      "Requirement already satisfied: six in ./opt/anaconda3/lib/python3.7/site-packages (from plotly>=5.0.0->dash) (1.12.0)\n",
      "Requirement already satisfied: brotli in ./opt/anaconda3/lib/python3.7/site-packages (from flask-compress->dash) (1.0.9)\n",
      "Requirement already satisfied: MarkupSafe>=0.23 in ./opt/anaconda3/lib/python3.7/site-packages (from Jinja2>=2.10.1->Flask>=1.0.4->dash) (1.1.1)\n",
      "Requirement already satisfied: jupyter_dash in ./opt/anaconda3/lib/python3.7/site-packages (0.4.0)\n",
      "Requirement already satisfied: dash in ./opt/anaconda3/lib/python3.7/site-packages (from jupyter_dash) (2.0.0)\n",
      "Requirement already satisfied: ipykernel in ./opt/anaconda3/lib/python3.7/site-packages (from jupyter_dash) (5.1.2)\n",
      "Requirement already satisfied: retrying in ./opt/anaconda3/lib/python3.7/site-packages (from jupyter_dash) (1.3.3)\n",
      "Requirement already satisfied: requests in ./opt/anaconda3/lib/python3.7/site-packages (from jupyter_dash) (2.22.0)\n",
      "Requirement already satisfied: flask in ./opt/anaconda3/lib/python3.7/site-packages (from jupyter_dash) (1.1.1)\n",
      "Requirement already satisfied: ipython in ./opt/anaconda3/lib/python3.7/site-packages (from jupyter_dash) (7.8.0)\n",
      "Requirement already satisfied: ansi2html in ./opt/anaconda3/lib/python3.7/site-packages (from jupyter_dash) (1.6.0)\n",
      "Requirement already satisfied: flask-compress in ./opt/anaconda3/lib/python3.7/site-packages (from dash->jupyter_dash) (1.10.1)\n",
      "Requirement already satisfied: dash-table==5.0.0 in ./opt/anaconda3/lib/python3.7/site-packages (from dash->jupyter_dash) (5.0.0)\n",
      "Requirement already satisfied: plotly>=5.0.0 in ./opt/anaconda3/lib/python3.7/site-packages (from dash->jupyter_dash) (5.4.0)\n",
      "Requirement already satisfied: dash-html-components==2.0.0 in ./opt/anaconda3/lib/python3.7/site-packages (from dash->jupyter_dash) (2.0.0)\n",
      "Requirement already satisfied: dash-core-components==2.0.0 in ./opt/anaconda3/lib/python3.7/site-packages (from dash->jupyter_dash) (2.0.0)\n",
      "Requirement already satisfied: Werkzeug>=0.15 in ./opt/anaconda3/lib/python3.7/site-packages (from flask->jupyter_dash) (0.16.0)\n",
      "Requirement already satisfied: click>=5.1 in ./opt/anaconda3/lib/python3.7/site-packages (from flask->jupyter_dash) (7.0)\n",
      "Requirement already satisfied: Jinja2>=2.10.1 in ./opt/anaconda3/lib/python3.7/site-packages (from flask->jupyter_dash) (2.10.3)\n",
      "Requirement already satisfied: itsdangerous>=0.24 in ./opt/anaconda3/lib/python3.7/site-packages (from flask->jupyter_dash) (1.1.0)\n",
      "Requirement already satisfied: jupyter-client in ./opt/anaconda3/lib/python3.7/site-packages (from ipykernel->jupyter_dash) (5.3.3)\n",
      "Requirement already satisfied: tornado>=4.2 in ./opt/anaconda3/lib/python3.7/site-packages (from ipykernel->jupyter_dash) (6.0.3)\n",
      "Requirement already satisfied: traitlets>=4.1.0 in ./opt/anaconda3/lib/python3.7/site-packages (from ipykernel->jupyter_dash) (4.3.3)\n",
      "Requirement already satisfied: prompt-toolkit<2.1.0,>=2.0.0 in ./opt/anaconda3/lib/python3.7/site-packages (from ipython->jupyter_dash) (2.0.10)\n",
      "Requirement already satisfied: jedi>=0.10 in ./opt/anaconda3/lib/python3.7/site-packages (from ipython->jupyter_dash) (0.15.1)\n",
      "Requirement already satisfied: backcall in ./opt/anaconda3/lib/python3.7/site-packages (from ipython->jupyter_dash) (0.1.0)\n",
      "Requirement already satisfied: pygments in ./opt/anaconda3/lib/python3.7/site-packages (from ipython->jupyter_dash) (2.4.2)\n",
      "Requirement already satisfied: appnope in ./opt/anaconda3/lib/python3.7/site-packages (from ipython->jupyter_dash) (0.1.0)\n",
      "Requirement already satisfied: pickleshare in ./opt/anaconda3/lib/python3.7/site-packages (from ipython->jupyter_dash) (0.7.5)\n",
      "Requirement already satisfied: setuptools>=18.5 in ./opt/anaconda3/lib/python3.7/site-packages (from ipython->jupyter_dash) (41.4.0)\n",
      "Requirement already satisfied: pexpect in ./opt/anaconda3/lib/python3.7/site-packages (from ipython->jupyter_dash) (4.7.0)\n",
      "Requirement already satisfied: decorator in ./opt/anaconda3/lib/python3.7/site-packages (from ipython->jupyter_dash) (4.4.0)\n",
      "Requirement already satisfied: certifi>=2017.4.17 in ./opt/anaconda3/lib/python3.7/site-packages (from requests->jupyter_dash) (2019.9.11)\n",
      "Requirement already satisfied: urllib3!=1.25.0,!=1.25.1,<1.26,>=1.21.1 in ./opt/anaconda3/lib/python3.7/site-packages (from requests->jupyter_dash) (1.24.2)\n",
      "Requirement already satisfied: idna<2.9,>=2.5 in ./opt/anaconda3/lib/python3.7/site-packages (from requests->jupyter_dash) (2.8)\n",
      "Requirement already satisfied: chardet<3.1.0,>=3.0.2 in ./opt/anaconda3/lib/python3.7/site-packages (from requests->jupyter_dash) (3.0.4)\n",
      "Requirement already satisfied: six>=1.7.0 in ./opt/anaconda3/lib/python3.7/site-packages (from retrying->jupyter_dash) (1.12.0)\n",
      "Requirement already satisfied: parso>=0.5.0 in ./opt/anaconda3/lib/python3.7/site-packages (from jedi>=0.10->ipython->jupyter_dash) (0.5.1)\n",
      "Requirement already satisfied: MarkupSafe>=0.23 in ./opt/anaconda3/lib/python3.7/site-packages (from Jinja2>=2.10.1->flask->jupyter_dash) (1.1.1)\n",
      "Requirement already satisfied: tenacity>=6.2.0 in ./opt/anaconda3/lib/python3.7/site-packages (from plotly>=5.0.0->dash->jupyter_dash) (8.0.1)\n",
      "Requirement already satisfied: wcwidth in ./opt/anaconda3/lib/python3.7/site-packages (from prompt-toolkit<2.1.0,>=2.0.0->ipython->jupyter_dash) (0.1.7)\n",
      "Requirement already satisfied: ipython-genutils in ./opt/anaconda3/lib/python3.7/site-packages (from traitlets>=4.1.0->ipykernel->jupyter_dash) (0.2.0)\n",
      "Requirement already satisfied: brotli in ./opt/anaconda3/lib/python3.7/site-packages (from flask-compress->dash->jupyter_dash) (1.0.9)\n",
      "Requirement already satisfied: python-dateutil>=2.1 in ./opt/anaconda3/lib/python3.7/site-packages (from jupyter-client->ipykernel->jupyter_dash) (2.8.0)\n",
      "Requirement already satisfied: pyzmq>=13 in ./opt/anaconda3/lib/python3.7/site-packages (from jupyter-client->ipykernel->jupyter_dash) (18.1.0)\n",
      "Requirement already satisfied: jupyter-core in ./opt/anaconda3/lib/python3.7/site-packages (from jupyter-client->ipykernel->jupyter_dash) (4.5.0)\n",
      "Requirement already satisfied: ptyprocess>=0.5 in ./opt/anaconda3/lib/python3.7/site-packages (from pexpect->ipython->jupyter_dash) (0.6.0)\n",
      "Requirement already satisfied: plotly in ./opt/anaconda3/lib/python3.7/site-packages (5.4.0)\n",
      "Requirement already satisfied: six in ./opt/anaconda3/lib/python3.7/site-packages (from plotly) (1.12.0)\n",
      "Requirement already satisfied: tenacity>=6.2.0 in ./opt/anaconda3/lib/python3.7/site-packages (from plotly) (8.0.1)\n",
      "Requirement already satisfied: dash-html-components in ./opt/anaconda3/lib/python3.7/site-packages (2.0.0)\n",
      "Requirement already satisfied: dash_core_components in ./opt/anaconda3/lib/python3.7/site-packages (2.0.0)\n"
     ]
    }
   ],
   "source": [
    "!pip3 install dash\n",
    "!pip3 install jupyter_dash\n",
    "!pip3 install plotly\n",
    "!pip3 install dash-html-components\n",
    "!pip3 install dash_core_components"
   ]
  },
  {
   "cell_type": "code",
   "execution_count": 39,
   "metadata": {},
   "outputs": [],
   "source": [
    "import pandas as pd\n",
    "import dash\n",
    "import dash_html_components as html\n",
    "import dash_core_components as dcc\n",
    "from dash.dependencies import Input, Output\n",
    "import plotly.express as px"
   ]
  },
  {
   "cell_type": "code",
   "execution_count": 40,
   "metadata": {},
   "outputs": [],
   "source": [
    "# Read the airline data into pandas dataframe\n",
    "spacex_df = pd.read_csv('https://cf-courses-data.s3.us.cloud-object-storage.appdomain.cloud/IBM-DS0321EN-SkillsNetwork/datasets/spacex_launch_dash.csv')\n",
    "max_payload = spacex_df['Payload Mass (kg)'].max()\n",
    "min_payload = spacex_df['Payload Mass (kg)'].min()"
   ]
  },
  {
   "cell_type": "code",
   "execution_count": 41,
   "metadata": {},
   "outputs": [],
   "source": [
    "# Create a dash application\n",
    "app = dash.Dash(__name__)"
   ]
  },
  {
   "cell_type": "code",
   "execution_count": 42,
   "metadata": {},
   "outputs": [],
   "source": [
    "# Create an app layout\n",
    "app.layout = html.Div(children=[html.H1('SpaceX Launch Records Dashboard',\n",
    "                                        style={'textAlign': 'center', 'color': '#503D36',\n",
    "                                               'font-size': 40}),\n",
    "                                # TASK 1: Add a dropdown list to enable Launch Site selection\n",
    "                                # The default select value is for ALL sites\n",
    "                                # dcc.Dropdown(id='site-dropdown',...)\n",
    "                                dcc.Dropdown(id='site-dropdown',\n",
    "                                            options=[\n",
    "                                                         {'label': 'ALL SITES', 'value': 'ALL'},\n",
    "                                                         {'label': 'CCAFS LC-40', 'value': 'CCAFS LC-40'},\n",
    "                                                         {'label': 'VAFB SLC-4E', 'value': 'VAFB SLC-4E'},\n",
    "                                                         {'label': 'KSC LC-39A', 'value': 'KSC LC-39A'},\n",
    "                                                         {'label': 'CCAFS SLC-40', 'value': 'CCAFS SLC-40'}\n",
    "                                                    ],\n",
    "                                            value='ALL',\n",
    "                                            placeholder=\"Select a Launch Site here\", \n",
    "                                            searchable=True),\n",
    "                                html.Br(),\n",
    "\n",
    "                                # TASK 2: Add a pie chart to show the total successful launches count for all sites\n",
    "                                # If a specific launch site was selected, show the Success vs. Failed counts for the site\n",
    "                                html.Div(dcc.Graph(id='success-pie-chart')),\n",
    "                                html.Br(),\n",
    "\n",
    "                                html.P(\"Payload range (Kg):\"),\n",
    "                                # TASK 3: Add a slider to select payload range\n",
    "                                dcc.RangeSlider(id='payload-slider',\n",
    "                                                min=0,max=10000,step=1000,\n",
    "                                                value=[min_payload,max_payload],\n",
    "                                                marks={0: '0', 2500:'2500',5000:'5000',\n",
    "                                                7500:'7500', 10000: '10000'}),\n",
    "\n",
    "                                # TASK 4: Add a scatter chart to show the correlation between payload and launch success\n",
    "                                html.Div(dcc.Graph(id='success-payload-scatter-chart')),\n",
    "                                ])\n",
    "\n",
    "# TASK 2:\n",
    "# Add a callback function for `site-dropdown` as input, `success-pie-chart` as output\n",
    "@app.callback(\n",
    "    Output(component_id='success-pie-chart', component_property='figure'),\n",
    "    Input(component_id='site-dropdown', component_property='value'))\n",
    "\n",
    "def build_graph(site_dropdown):\n",
    "    if site_dropdown == 'ALL':\n",
    "        piechart = px.pie(data_frame = spacex_df, names='Launch Site', values='class' ,title='Total Launches for All Sites')\n",
    "        return piechart\n",
    "    else:\n",
    "        #specific_df = spacex_df['Launch Site']\n",
    "        specific_df=spacex_df.loc[spacex_df['Launch Site'] == site_dropdown]\n",
    "        piechart = px.pie(data_frame = specific_df, names='class',title='Total Launch for a Specific Site')\n",
    "        return piechart\n",
    "\n",
    "# TASK 4:\n",
    "# Add a callback function for `site-dropdown` and `payload-slider` as inputs, `success-payload-scatter-chart` as output\n",
    "@app.callback(\n",
    "    Output(component_id='success-payload-scatter-chart', component_property='figure'),\n",
    "    [Input(component_id='site-dropdown', component_property='value'),\n",
    "    Input(component_id='payload-slider', component_property='value')])\n",
    "\n",
    "def update_graph(site_dropdown, payload_slider):\n",
    "    if site_dropdown == 'ALL':\n",
    "        filtered_data = spacex_df[(spacex_df['Payload Mass (kg)']>=payload_slider[0])\n",
    "        &(spacex_df['Payload Mass (kg)']<=payload_slider[1])]\n",
    "        scatterplot = px.scatter(data_frame=filtered_data, x=\"Payload Mass (kg)\", y=\"class\", \n",
    "        color=\"Booster Version Category\")\n",
    "        return scatterplot\n",
    "    else:\n",
    "        specific_df=spacex_df.loc[spacex_df['Launch Site'] == site_dropdown]\n",
    "        filtered_data = specific_df[(specific_df['Payload Mass (kg)']>=payload_slider[0])\n",
    "        &(spacex_df['Payload Mass (kg)']<=payload_slider[1])]\n",
    "        scatterplot = px.scatter(data_frame=filtered_data, x=\"Payload Mass (kg)\", y=\"class\", \n",
    "        color=\"Booster Version Category\")\n",
    "        return scatterplot"
   ]
  },
  {
   "cell_type": "code",
   "execution_count": null,
   "metadata": {},
   "outputs": [
    {
     "name": "stdout",
     "output_type": "stream",
     "text": [
      "Dash is running on http://127.0.0.1:8050/\n",
      "\n",
      "Dash is running on http://127.0.0.1:8050/\n",
      "\n",
      "Dash is running on http://127.0.0.1:8050/\n",
      "\n",
      "Dash is running on http://127.0.0.1:8050/\n",
      "\n",
      " * Serving Flask app \"__main__\" (lazy loading)\n",
      " * Environment: production\n",
      "   WARNING: This is a development server. Do not use it in a production deployment.\n",
      "   Use a production WSGI server instead.\n",
      " * Debug mode: off\n"
     ]
    },
    {
     "name": "stderr",
     "output_type": "stream",
     "text": [
      " * Running on http://127.0.0.1:8050/ (Press CTRL+C to quit)\n",
      "127.0.0.1 - - [07/Dec/2021 15:27:06] \"GET / HTTP/1.1\" 200 -\n",
      "127.0.0.1 - - [07/Dec/2021 15:27:06] \"GET /_dash-component-suites/dash/deps/polyfill@7.v2_0_0m1637594866.12.1.min.js HTTP/1.1\" 200 -\n",
      "127.0.0.1 - - [07/Dec/2021 15:27:06] \"GET /_dash-component-suites/dash/deps/react-dom@16.v2_0_0m1637594866.14.0.min.js HTTP/1.1\" 200 -\n",
      "127.0.0.1 - - [07/Dec/2021 15:27:06] \"GET /_dash-component-suites/dash/deps/prop-types@15.v2_0_0m1637594866.7.2.min.js HTTP/1.1\" 200 -\n",
      "127.0.0.1 - - [07/Dec/2021 15:27:06] \"GET /_dash-component-suites/dash/dash-renderer/build/dash_renderer.v2_0_0m1637594865.min.js HTTP/1.1\" 200 -\n",
      "127.0.0.1 - - [07/Dec/2021 15:27:06] \"GET /_dash-component-suites/dash/deps/react@16.v2_0_0m1637594866.14.0.min.js HTTP/1.1\" 200 -\n",
      "127.0.0.1 - - [07/Dec/2021 15:27:06] \"GET /_dash-layout HTTP/1.1\" 200 -\n",
      "127.0.0.1 - - [07/Dec/2021 15:27:06] \"GET /_dash-dependencies HTTP/1.1\" 200 -\n",
      "127.0.0.1 - - [07/Dec/2021 15:27:06] \"GET /_dash-component-suites/dash/dcc/async-dropdown.js HTTP/1.1\" 304 -\n",
      "127.0.0.1 - - [07/Dec/2021 15:27:06] \"GET /_dash-component-suites/dash/dcc/async-graph.js HTTP/1.1\" 304 -\n",
      "127.0.0.1 - - [07/Dec/2021 15:27:06] \"GET /_dash-component-suites/dash/dcc/async-slider.js HTTP/1.1\" 304 -\n",
      "127.0.0.1 - - [07/Dec/2021 15:27:06] \"GET /_dash-component-suites/dash/dcc/async-plotlyjs.js HTTP/1.1\" 304 -\n",
      "127.0.0.1 - - [07/Dec/2021 15:27:06] \"POST /_dash-update-component HTTP/1.1\" 200 -\n",
      "127.0.0.1 - - [07/Dec/2021 15:27:06] \"POST /_dash-update-component HTTP/1.1\" 200 -\n"
     ]
    }
   ],
   "source": [
    "# Run the app\n",
    "if __name__ == '__main__':\n",
    "    app.run_server()"
   ]
  },
  {
   "cell_type": "code",
   "execution_count": null,
   "metadata": {},
   "outputs": [],
   "source": []
  }
 ],
 "metadata": {
  "kernelspec": {
   "display_name": "Python 3",
   "language": "python",
   "name": "python3"
  },
  "language_info": {
   "codemirror_mode": {
    "name": "ipython",
    "version": 3
   },
   "file_extension": ".py",
   "mimetype": "text/x-python",
   "name": "python",
   "nbconvert_exporter": "python",
   "pygments_lexer": "ipython3",
   "version": "3.7.4"
  }
 },
 "nbformat": 4,
 "nbformat_minor": 2
}
